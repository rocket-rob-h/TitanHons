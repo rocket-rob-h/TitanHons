{
 "cells": [
  {
   "cell_type": "code",
   "id": "initial_id",
   "metadata": {
    "collapsed": true,
    "ExecuteTime": {
     "end_time": "2024-08-26T12:20:48.542106Z",
     "start_time": "2024-08-26T12:20:48.536857Z"
    }
   },
   "source": [
    "'''Geometry lmr capsule design'''\n",
    "import numpy as np\n",
    "\n",
    "def m(theta):\n",
    "    '''4.1'''\n",
    "    m = np.tan(theta)\n",
    "    return m\n",
    "\n",
    "def c(m, r_nose):\n",
    "    '''4.2'''\n",
    "    c = (np.sqrt(1 + m**2) - m) * r_nose\n",
    "    return c\n",
    "\n",
    "def Bx(r_nose, m, c):\n",
    "    '''4.3'''\n",
    "    Bx = (2*r_nose - 2 * m * c + np.sqrt((2 * m * c - 2 * r_nose)**2 - 4 * (1 + m**2) * (c**2))) / (2 * (1 + m**2))\n",
    "    return Bx\n",
    "\n",
    "def By(m, Bx, c):\n",
    "    '''4.4 (m x+ c) derivative'''\n",
    "    By = m * Bx + c\n",
    "    return By\n",
    "\n",
    "theta = np.radians(60.0)\n",
    "r_nose = 0.02615 # m\n",
    "capsule_radius = 0.09 # m\n",
    "\n",
    "m_90 = m(theta)\n",
    "c_90 = c(m_90, r_nose)\n",
    "Bx_90 = Bx(r_nose, m_90, c_90)\n",
    "By_90 = By(m_90, Bx_90, c_90)\n",
    "\n",
    "print(f\"m_90 = {m_90:.2f} \")\n",
    "print(f\"c_90 = {c_90:.4f} \")\n",
    "print(f\"Bx_90 = {Bx_90:.4f} \")\n",
    "print(f\"By_90 = {By_90:.4f} \")\n",
    "\n"
   ],
   "outputs": [
    {
     "name": "stdout",
     "output_type": "stream",
     "text": [
      "Invalid value encountered: Discriminant -4.336808689942018e-19 is negative, cannot take square root.\n"
     ]
    }
   ],
   "execution_count": 6
  },
  {
   "metadata": {},
   "cell_type": "code",
   "outputs": [],
   "execution_count": null,
   "source": "",
   "id": "e06dcd6d068f5de3"
  }
 ],
 "metadata": {
  "kernelspec": {
   "display_name": "Python 3",
   "language": "python",
   "name": "python3"
  },
  "language_info": {
   "codemirror_mode": {
    "name": "ipython",
    "version": 2
   },
   "file_extension": ".py",
   "mimetype": "text/x-python",
   "name": "python",
   "nbconvert_exporter": "python",
   "pygments_lexer": "ipython2",
   "version": "2.7.6"
  }
 },
 "nbformat": 4,
 "nbformat_minor": 5
}
